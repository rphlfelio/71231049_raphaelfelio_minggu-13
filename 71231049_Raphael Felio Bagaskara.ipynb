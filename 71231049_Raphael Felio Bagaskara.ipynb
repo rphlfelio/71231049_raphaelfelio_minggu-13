{
 "cells": [
  {
   "cell_type": "code",
   "execution_count": 12,
   "id": "ba3500e0",
   "metadata": {},
   "outputs": [
    {
     "name": "stdout",
     "output_type": "stream",
     "text": [
      "masukkan berapa kategori yang diinginkan: 2\n",
      "Masukkan kategori: fps\n",
      "Masukkan 3 nama aplikasi di kategori fps\n",
      "Nama aplikasi: motor\n",
      "Nama aplikasi: pubg\n",
      "Nama aplikasi: codm\n",
      "Masukkan kategori: simulator\n",
      "Masukkan 3 nama aplikasi di kategori simulator\n",
      "Nama aplikasi: motor\n",
      "Nama aplikasi: mobil\n",
      "Nama aplikasi: kereta\n",
      "Aplikasi yang hanya muncul di satu kategori saja:\n",
      "mobil\n",
      "codm\n",
      "pubg\n",
      "kereta\n"
     ]
    }
   ],
   "source": [
    "#Latihan 12.1\n",
    "data = int(input(\"masukkan berapa kategori yang diinginkan: \"))\n",
    "data_aplikasi = {}\n",
    "\n",
    "for i in range(data):\n",
    "    kategori = input('Masukkan kategori: ')\n",
    "    print(f'Masukkan 3 nama aplikasi di kategori {kategori}')\n",
    "\n",
    "    nama_aplikasi = []\n",
    "    for j in range(3):\n",
    "        apk = input('Nama aplikasi: ')\n",
    "        nama_aplikasi.append(apk)\n",
    "\n",
    "    data_aplikasi[kategori] = nama_aplikasi\n",
    "daftar_aplikasi = []\n",
    "\n",
    "for app in data_aplikasi.values():\n",
    "    daftar_aplikasi += (app)    \n",
    "set_aplikasi = set(daftar_aplikasi)\n",
    "daftar_aplikasi_list = [set(app) for aplikasi in data_aplikasi.values()]\n",
    "\n",
    "daftar_1 = []\n",
    "daftar_2 = []\n",
    "\n",
    "\n",
    "for dup_app in set_aplikasi:\n",
    "    count = 0\n",
    "    for kategori in data_aplikasi:\n",
    "        if dup_app in data_aplikasi[kategori]:\n",
    "            count += 1\n",
    "    if count == 2:\n",
    "        daftar_2.append(dup_app)\n",
    "    elif count == 1:\n",
    "        daftar_1.append(dup_app)\n",
    "        \n",
    "print(\"Aplikasi yang hanya muncul di satu kategori saja:\")\n",
    "for aplikasi in daftar_1:\n",
    "    print(aplikasi)\n",
    "\n",
    "if data > 2:\n",
    "    print(\"Aplikasi yang muncul tepat di dua kategori sekaligus:\")\n",
    "    for apk2 in daftar_2:\n",
    "        print(apk2)"
   ]
  },
  {
   "cell_type": "code",
   "execution_count": 4,
   "id": "e05af29c",
   "metadata": {},
   "outputs": [
    {
     "name": "stdout",
     "output_type": "stream",
     "text": [
      "list menjadi set : {1, 6, 40, 9, 10, 19, 20, 28, 29, 30}\n",
      "sebelum menjadi set: [1, 6, 9, 20, 40, 19, 20, 30, 28, 29, 10]\n",
      "set menjadi list: [1, 6, 40, 9, 10, 19, 20, 28, 29, 30]\n",
      "sebelum set menjadi list {1, 6, 40, 9, 10, 19, 20, 28, 29, 30}\n",
      "tuple menjadi set:  {1, 6, 40, 9, 10, 19, 20, 28, 29, 30}\n",
      "set menjadi tuple:  (1, 6, 40, 9, 10, 19, 20, 28, 29, 30)\n"
     ]
    }
   ],
   "source": [
    "#Latihan 12.2\n",
    "ini_list = [1,6,9,20,40,19,20,30,28,29,10]\n",
    "# Konversi List menjadi Set\n",
    "list_set = set(ini_list)\n",
    "print(f\"list menjadi set : {list_set}\")\n",
    "print(f\"sebelum menjadi set: {ini_list}\")\n",
    "# Konversi Set menjadi List\n",
    "set_list = list(list_set)\n",
    "print(f\"set menjadi list: {set_list}\")\n",
    "print(f\"sebelum set menjadi list {list_set}\")\n",
    "# Konversi Tuple menjadi Set\n",
    "tuple_set = set(ini_list)\n",
    "print(\"tuple menjadi set: \",tuple_set)\n",
    "# Konversi Set menjadi Tuple\n",
    "set_tuple = tuple(tuple_set)\n",
    "print(\"set menjadi tuple: \",set_tuple)\n"
   ]
  },
  {
   "cell_type": "code",
   "execution_count": 9,
   "id": "212eb408",
   "metadata": {},
   "outputs": [
    {
     "name": "stdout",
     "output_type": "stream",
     "text": [
      "Masukkan file pertama: mbox-short.txt\n",
      "Masukkan file kedua: romeo.txt\n",
      "kata yaang muncul pada kedua file:\n",
      "the\n",
      "is\n",
      "with\n",
      "and\n"
     ]
    }
   ],
   "source": [
    "#Latihan 12.3\n",
    "def cek_file(file_teks):\n",
    "    try:\n",
    "        with open(file_teks, 'r') as file:\n",
    "            return file.read().lower().split()\n",
    "    except FileNotFoundError:\n",
    "        print(f\"File '{file_teks}' tidak ditemukan.\")\n",
    "        return []\n",
    "\n",
    "def cek_kata_sama():\n",
    "    #input pengguna \n",
    "    file1 = input(\"Masukkan file pertama: \")\n",
    "    file2 = input(\"Masukkan file kedua: \")\n",
    "\n",
    "    kata1 = set(read_file(file1))\n",
    "    kata2 = set(read_file(file2))\n",
    "\n",
    "    kata_sama = kata1.intersection(kata2)\n",
    "\n",
    "    print(\"kata yaang muncul pada kedua file:\")\n",
    "    for kata in kata_sama:\n",
    "        print(kata)\n",
    "cek_kata_sama()\n"
   ]
  },
  {
   "cell_type": "code",
   "execution_count": null,
   "id": "5808e812",
   "metadata": {},
   "outputs": [],
   "source": []
  }
 ],
 "metadata": {
  "kernelspec": {
   "display_name": "Python 3 (ipykernel)",
   "language": "python",
   "name": "python3"
  },
  "language_info": {
   "codemirror_mode": {
    "name": "ipython",
    "version": 3
   },
   "file_extension": ".py",
   "mimetype": "text/x-python",
   "name": "python",
   "nbconvert_exporter": "python",
   "pygments_lexer": "ipython3",
   "version": "3.11.5"
  }
 },
 "nbformat": 4,
 "nbformat_minor": 5
}
